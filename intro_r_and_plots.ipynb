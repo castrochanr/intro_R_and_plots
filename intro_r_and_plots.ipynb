{
    "cells": [
        {
            "cell_type": "markdown",
            "metadata": {},
            "source": [
                "\n",
                "\n"
            ]
        },
        {
            "cell_type": "code",
            "execution_count": null,
            "metadata": {},
            "outputs": [],
            "source": [
                "knitr::opts_chunk$set(echo = TRUE)\n",
                "\n"
            ]
        },
        {
            "cell_type": "markdown",
            "metadata": {},
            "source": [
                "## Prerequisites {-}\n",
                "\n",
                "- Estar interesados en el uso de R.\n",
                "- Instrucciones de instalación y uso extensas en: [R](https://cran.r-project.org/) and [RStudio](https://www.rstudio.com/).\n",
                "- No rendirse.\n",
                "\n",
                "\n",
                "\n",
                "## Instalación del software {-}\n",
                "Mientras [**R**](https://cran.r-project.org/) es el software colaborativo y de acceso libre, [**RStudio**](https://www.rstudio.com/) es un entorno de desarrollo integrado (IDE) para R, pobablemente \n",
                "el más usado. R no es tan amigable como para usarlo sólo. RStudio por otro lado hace que el uso de R sea más sencillo y eficiente, además de integrar software de terceros para su uso con R\n",
                "\n",
                "\n",
                "### macOS {-}\n",
                "\n",
                "#### Si ya tiene instalado R y RStudio, actualizalos {-}\n",
                "\n",
                "* Abre y en la opción de \"Help\" > \"Check for updates\". Si hay una versión nueva, actualiza.\n",
                "* R también puede ser actualizado, al abrir RStudio aparecera su version de R.\n",
                "  En la página del CRAN puede cotejar la version que tiene con la más actual, puede descargar e instalarm the [CRAN website](https://cran.r-project.org/bin/macosx/).\n",
                "\n",
                "#### Si no tienes R and RStudio instalados {-}\n",
                "\n",
                "* Descargue R\n",
                "  the [CRAN website](http://cran.r-project.org/bin/macosx).\n",
                "* Seleccione el arhivo de extrnesión`.pkg`  del alultima verisón\n",
                "* Descargue para instalar\n",
                "* Vaya a la pagina de [RStudio download page](https://posit.co/download/rstudio-desktop/)\n",
                "* Selecciones el ejecutable para su sistema\n",
                "* En su carpeta de descargas doble click sobre el archivo de RStudio para instalar\n",
                "\n",
                "### Windows {-}\n",
                "\n",
                "#### Si ya tiene instalado R y RStudio, actualizalos {-}\n",
                "\n",
                "* Siga las mismas instrucciones que en el parrafo anterior. Si hay nuevas versiones, aculaice R y RStudio.\n",
                "* Vea si la ultima versión de R es la que ud. tiene. Vaya a \n",
                "  the [CRAN website](https://cran.r-project.org/bin/windows/base/) y cheque la versión. Ud puede desinstalar con sus herramientas de gestion de windows.\n",
                "\n",
                "\n",
                "#### Si no tienes R and RStudio instalados {-}\n",
                "\n",
                "* Descargue Rde\n",
                "  the [CRAN website](https://cran.r-project.org/) para sus sistema, extensión \".exe\".\n",
                "* Doble click en archivo e instale.\n",
                "* Para RStudio, vaya a la pagina de [RStudio download page](https://posit.co/download/rstudio-desktop/)\n",
                "* Selecciones el ejecutable para su sistema\n",
                "* En su carpeta de descargas doble click sobre el archivo de RStudio para instalar.\n",
                "\n",
                "\n",
                "\n",
                "### GNU/Linux {-}\n",
                "\n",
                "* El tran tiene instrucciones para las distintas distribuciones, revise e instale [CRAN](https://cloud.r-project.org/bin/linux). Se recomienda usar su gestor de paquetes para actualizar  (e.g., for Debian/Ubuntu corra\n",
                "  `sudo apt-get install r-base`, and for Fedora `sudo yum install R`), pero suele suceder que esta version esté desactualizada\n",
                "* vaya a [RStudio download page](https://posit.co/download/rstudio-desktop/)\n",
                "* Seleccione la version de su sistema e instale según sea pertinente para su distribución (e.g., with Debian/Ubuntu `sudo dpkg -i\n",
                "  rstudio-x.yy.zzz-amd64.deb` en la terminal).\n",
                "\n",
                "\n",
                "## Acknowledgements {-}\n",
                "Una fracción de este material es una adaptación de https://cengel.github.io/R-intro/\n",
                "\n",
                "\n",
                "[Cheat sheet Rmarkdown](https://www.rstudio.com/wp-content/uploads/2015/02/rmarkdown-cheatsheet.pdf)\n",
                "\n",
                "[Cheat sheet Rmarkdown-Español](https://www.ic.fcen.uba.ar/materias/datos/material/rmarkdown-spanish.pdf)\n",
                "\n",
                "[Guía rápida Rmarkdown](https://raw.githubusercontent.com/rstudio/cheatsheets/main/translations/spanish/rmarkdown_es.pdf)\n",
                "\n",
                "\n",
                "# Getting Started with R {#gettingstarted}\n",
                "\n",
                "> Aprendizaje\n",
                ">\n",
                "> * Objetos de R: creación y asignación de valores\n",
                "> * Usar los comentarios en los scripts.\n",
                "> * Usar objetos y valores para operaciones aritmeticas.\n",
                "> * Crear e invocar (llamar funciones).\n",
                "> * Revisión de objetos y vectores.\n",
                "> * Obtener subconjuntos de datos de vectores.\n",
                "> * Definir datos perdidos (NAs).\n",
                "> * Uso de la interfaz de [Rstudio]() \n",
                "> * Invocar Ayuda de [R]()\n",
                "> * Buscar ayuda sobre problemas y busqueda de soluciones.\n",
                "> * Descargar, instalar y cargar paquete de R.\n",
                "\n",
                "------------\n",
                "\n",
                "\n",
                "---\n",
                "\n",
                "\n",
                "## Objetos de R: creación y asignación de valores\n",
                "\n",
                "Definamos _valores_ y después poder asignarlos a _objetos_, mediante el operador de asignación `<-`, Ejemplo:\n"
            ]
        },
        {
            "cell_type": "code",
            "execution_count": null,
            "metadata": {},
            "outputs": [],
            "source": [
                "peso_kg <- 55\n",
                "\n"
            ]
        },
        {
            "cell_type": "markdown",
            "metadata": {},
            "source": [
                "`<-` El operador de asignación es en realidad una flecha depentidndo del sentido de la flecha se asignaran los valores, en el ejemplo anterior la flecha va de izquierda a derecha, entonces el objeto definido es el de la izquierda \"pero_kg\", entonces el valor 55 **se guarda dentro de** `peso_kg`.  También puede usar el simbolo `=`\n",
                "pero no en todos los casos,porque hay [pequeñas](http://blog.revolutionanalytics.com/2008/12/use-equals-or-arrow-for-assignment.html) [diferencias](https://web.archive.org/web/20130610005305/https://stat.ethz.ch/pipermail/r-help/2009-March/191462.html) en la sintaxis y es mejor usar  `<-` para evitar cualquier conflicto.\n",
                "\n",
                "In RStudio, typing <kbd>Alt<\/kbd> + <kbd>-<\/kbd> (push <kbd>Alt<\/kbd> at the\n",
                "same time as the <kbd>-<\/kbd> key) will write ` <- ` in a single keystroke.\n",
                "\n",
                "Hay ciertas reglas:\n",
                "\n",
                "- cualquier nombre pueden recibir los objetos, la simpleza es compensada `x`, `current_temperature`, or\n",
                "`subject_id`. \n",
                "- Nombres no tan largos.\n",
                "- No se recomiendan espacios, ni caráctres especiales.\n",
                "- No **no pueden empezar** con números (`2x` es inválido, `x2` está bien). \n",
                "- R es sensible a mayusculas y R no reconoce si no se escribe el nombre identico.\n",
                "- There are some names that\n",
                "cannot be used because they are the names of fundamental functions in R (e.g., `if`, `else`, `for`, see\n",
                "[here](https://stat.ethz.ch/R-manual/R-devel/library/base/html/Reserved.html) for a complete list). In general, even if it is allowed, it's best to not use other function names (e.g., `c`, `T`, `mean`, `data`, `df`, `weights`). If in doubt, check the help to see if the name is already in use. \n",
                "- It's also best to\n",
                "avoid dots (`.`) within a variable name as in `my.dataset`. There are many\n",
                "functions in R with dots in their names for historical reasons, but because dots have a special meaning in R (for methods) and other programming languages, it is best to avoid them. \n",
                "- It is also recommended to use *nouns for variable names*, and\n",
                "*verbs for function names*. \n",
                "- It's important to be consistent in the styling of your code (where you put spaces, how you name variables, etc.). Using a consistent\n",
                "coding style makes your code clearer to read for your future self and your\n",
                "collaborators.  \n",
                "In R, three popular style guides\n",
                "are\n",
                "[Google's](https://google.github.io/styleguide/Rguide.xml),\n",
                "[Jean Fan's](http://jef.works/R-style-guide/) and\n",
                "the [tidyverse's](http://style.tidyverse.org/). The tidyverse's is very comprehensive\n",
                "and may seem overwhelming at first. You can install the \n",
                "[**`lintr`**](https://github.com/jimhester/lintr) to automatically check for issues \n",
                "in the styling of your code.\n",
                "\n",
                "\n",
                "When assigning a value to an object, R does not print anything. You can force R to print the value by using parentheses or by typing the object name:\n"
            ]
        },
        {
            "cell_type": "code",
            "execution_count": null,
            "metadata": {},
            "outputs": [],
            "source": [
                "weight_kg <- 55    # doesn't print anything\n",
                "(weight_kg <- 55)  # but putting parenthesis around the call prints the value of `weight_kg`\n",
                "weight_kg          # and so does typing the name of the object\n"
            ]
        },
        {
            "cell_type": "markdown",
            "metadata": {},
            "source": [
                "Now that R has `weight_kg` in memory, we can do arithmetic with it. For\n",
                "instance, we may want to convert this weight into pounds (weight in pounds is 2.2 times the weight in kg):\n"
            ]
        },
        {
            "cell_type": "code",
            "execution_count": null,
            "metadata": {},
            "outputs": [],
            "source": [
                "2.2 * weight_kg\n",
                "\n"
            ]
        },
        {
            "cell_type": "markdown",
            "metadata": {},
            "source": [
                "We can also change a variable's value by assigning it a new one:\n",
                "\n"
            ]
        },
        {
            "cell_type": "code",
            "execution_count": null,
            "metadata": {},
            "outputs": [],
            "source": [
                "weight_kg <- 100\n",
                "2.2 * weight_kg\n"
            ]
        },
        {
            "cell_type": "markdown",
            "metadata": {},
            "source": [
                "This means that assigning a value to one variable does not change the values of\n",
                "other variables.  For example, let's store the weight in pounds in a new\n",
                "variable, `weight_lb`:\n"
            ]
        },
        {
            "cell_type": "code",
            "execution_count": null,
            "metadata": {},
            "outputs": [],
            "source": [
                "weight_lb <- 2.2 * weight_kg\n",
                "\n"
            ]
        },
        {
            "cell_type": "markdown",
            "metadata": {},
            "source": [
                "and then change `weight_kg` to 50.\n",
                "\n"
            ]
        },
        {
            "cell_type": "code",
            "execution_count": null,
            "metadata": {},
            "outputs": [],
            "source": [
                "weight_kg <- 50\n",
                "\n"
            ]
        },
        {
            "cell_type": "markdown",
            "metadata": {},
            "source": [
                "> <h3>Challenge<\/h3>\n",
                "> \n",
                "> What do you think is the current content of the object `weight_lb`? 110 or 220?\n",
                "\n",
                "\n",
                "\n",
                "\n",
                "\n",
                "\n",
                "\n",
                "\n",
                "\n",
                "\n",
                "\n",
                "\n",
                "\n",
                "\n",
                "\n",
                "\n",
                "\n",
                "\n",
                "\n",
                "\n",
                "\n",
                "## R Markdown\n",
                "\n",
                "This is an R Markdown document. Markdown is a simple formatting syntax for authoring HTML, PDF, and MS Word documents. For more details on using R Markdown see <http://rmarkdown.rstudio.com>.\n",
                "\n",
                "When you click the **Knit** button a document will be generated that includes both content as well as the output of any embedded R code chunks within the document. You can embed an R code chunk like this:\n"
            ]
        },
        {
            "cell_type": "code",
            "execution_count": null,
            "metadata": {},
            "outputs": [],
            "source": [
                "summary(cars)\n",
                "\n"
            ]
        },
        {
            "cell_type": "markdown",
            "metadata": {},
            "source": [
                "## Including Plots\n",
                "\n",
                "You can also embed plots, for example:\n"
            ]
        },
        {
            "cell_type": "code",
            "execution_count": null,
            "metadata": {},
            "outputs": [],
            "source": [
                "plot(pressure)\n",
                "\n"
            ]
        },
        {
            "cell_type": "markdown",
            "metadata": {},
            "source": [
                "Note that the `echo = FALSE` parameter was added to the code chunk to prevent printing of the R code that generated the plot.\n",
                "\n"
            ]
        },
        {
            "cell_type": "code",
            "execution_count": null,
            "metadata": {},
            "outputs": [],
            "source": [
                "\n",
                "\n"
            ]
        },
        {
            "cell_type": "markdown",
            "metadata": {},
            "source": [
                " \n",
                "## Introducción a objetos de R \n",
                "\n",
                "Vamos a probar algunos comandos de R para objetos\n",
                "\n",
                "### Buscando ayuda\n"
            ]
        },
        {
            "cell_type": "code",
            "execution_count": null,
            "metadata": {},
            "outputs": [],
            "source": [
                "?lm\n",
                "\n"
            ]
        },
        {
            "cell_type": "markdown",
            "metadata": {},
            "source": [
                " con help\n",
                " \n"
            ]
        },
        {
            "cell_type": "code",
            "execution_count": null,
            "metadata": {},
            "outputs": [],
            "source": [
                "help(objects)\n",
                "\n"
            ]
        },
        {
            "cell_type": "markdown",
            "metadata": {},
            "source": [
                " \n",
                "### vectores y  listas\n",
                "\n",
                "vector v\n"
            ]
        },
        {
            "cell_type": "code",
            "execution_count": null,
            "metadata": {},
            "outputs": [],
            "source": [
                "a<-c(2,1,3,4)\n",
                "a\n"
            ]
        },
        {
            "cell_type": "markdown",
            "metadata": {},
            "source": "\n"
        },
        {
            "cell_type": "code",
            "execution_count": null,
            "metadata": {},
            "outputs": [],
            "source": [
                "getwd() #para ver mi directorio de trabajo\n",
                "setwd(\"/home/rcastro/Documentos/intro_R_and_plots\") # es por si requiero configurar mi directorio\n"
            ]
        },
        {
            "cell_type": "markdown",
            "metadata": {},
            "source": "Todo embebido\n"
        }
    ],
    "metadata": {
        "anaconda-cloud": "",
        "kernelspec": {
            "display_name": "R",
            "langauge": "R",
            "name": "ir"
        },
        "language_info": {
            "codemirror_mode": "r",
            "file_extension": ".r",
            "mimetype": "text/x-r-source",
            "name": "R",
            "pygments_lexer": "r",
            "version": "3.4.1"
        }
    },
    "nbformat": 4,
    "nbformat_minor": 1
}
